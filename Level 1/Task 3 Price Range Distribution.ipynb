{
  "cells": [
    {
      "cell_type": "markdown",
      "source": [
        "<a href=\"https://colab.research.google.com/github/manasdutta04/Cognifyz-Technologies-Internship/blob/main/Level 1/Level 1-Task 3 Price Range Distribution.ipynb\" target=\"_parent\"><img src=\"https://colab.research.google.com/assets/colab-badge.svg\" alt=\"Open In Colab\"/></a>"
      ],
      "metadata": {
        "id": "IdwpIXxmt-dF"
      },
      "id": "IdwpIXxmt-dF"
    },
    {
      "cell_type": "code",
      "execution_count": null,
      "id": "83879134",
      "metadata": {
        "id": "83879134"
      },
      "outputs": [],
      "source": [
        "import pandas as pd\n",
        "import matplotlib.pyplot as plt"
      ]
    },
    {
      "cell_type": "code",
      "execution_count": null,
      "id": "b2a1fd03",
      "metadata": {
        "id": "b2a1fd03"
      },
      "outputs": [],
      "source": [
        "dataset = pd.read_csv('Dataset.csv')"
      ]
    },
    {
      "cell_type": "code",
      "execution_count": null,
      "id": "cb8c54d0",
      "metadata": {
        "id": "cb8c54d0"
      },
      "outputs": [],
      "source": [
        "\n",
        "price_range_counts = dataset['Price range'].value_counts().sort_index()"
      ]
    },
    {
      "cell_type": "code",
      "execution_count": null,
      "id": "e9994065",
      "metadata": {
        "id": "e9994065"
      },
      "outputs": [],
      "source": [
        "total_restaurants = len(dataset)\n",
        "percentage_per_price_range = (price_range_counts / total_restaurants) * 100"
      ]
    },
    {
      "cell_type": "code",
      "execution_count": null,
      "id": "aa91dd4d",
      "metadata": {
        "colab": {
          "base_uri": "https://localhost:8080/",
          "height": 472
        },
        "id": "aa91dd4d",
        "outputId": "2a9766c3-3a64-49a5-928a-616d9c4ef003"
      },
      "outputs": [
        {
          "output_type": "display_data",
          "data": {
            "text/plain": [
              "<Figure size 640x480 with 1 Axes>"
            ],
            "image/png": "[encoded data removed]"
          },
          "metadata": {}
        }
      ],
      "source": [
        "plt.bar(price_range_counts.index, price_range_counts.values)\n",
        "plt.xlabel('Price Range')\n",
        "plt.ylabel('Count')\n",
        "plt.title('Distribution of Price Ranges')\n",
        "plt.show()\n"
      ]
    },
    {
      "cell_type": "code",
      "execution_count": null,
      "id": "3fefcb79",
      "metadata": {
        "colab": {
          "base_uri": "https://localhost:8080/"
        },
        "id": "3fefcb79",
        "outputId": "7c96730f-616f-4a46-fdb4-c93feed1830f"
      },
      "outputs": [
        {
          "output_type": "stream",
          "name": "stdout",
          "text": [
            "Percentage of restaurants in each price range category:\n",
            "1.0    38.993426\n",
            "2.0    34.187259\n",
            "3.0    19.723419\n",
            "4.0     7.073226\n",
            "Name: Price range, dtype: float64\n"
          ]
        }
      ],
      "source": [
        "print(\"Percentage of restaurants in each price range category:\")\n",
        "print(percentage_per_price_range)"
      ]
    },
    {
      "cell_type": "code",
      "execution_count": null,
      "id": "80ab6e7a",
      "metadata": {
        "id": "80ab6e7a"
      },
      "outputs": [],
      "source": []
    }
  ],
  "metadata": {
    "kernelspec": {
      "display_name": "Python 3 (ipykernel)",
      "language": "python",
      "name": "python3"
    },
    "language_info": {
      "codemirror_mode": {
        "name": "ipython",
        "version": 3
      },
      "file_extension": ".py",
      "mimetype": "text/x-python",
      "name": "python",
      "nbconvert_exporter": "python",
      "pygments_lexer": "ipython3",
      "version": "3.9.13"
    },
    "colab": {
      "provenance": []
    }
  },
  "nbformat": 4,
  "nbformat_minor": 5
}