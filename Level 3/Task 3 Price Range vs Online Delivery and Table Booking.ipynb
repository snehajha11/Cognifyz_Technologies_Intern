{
  "cells": [
    {
      "cell_type": "markdown",
      "id": "SoD36-Lrxq0Y",
      "metadata": {
        "id": "SoD36-Lrxq0Y"
      },
      "source": [
        "<a href=\"https://colab.research.google.com/github/manasdutta04/Cognifyz-Technologies-Internship/blob/main/Level 3/Level 3-Task 3 Price Range vs Online Delivery and Table Booking.ipynb\" target=\"_parent\"><img src=\"https://colab.research.google.com/assets/colab-badge.svg\" alt=\"Open In Colab\"/></a>"
      ]
    },
    {
      "cell_type": "code",
      "execution_count": 9,
      "id": "44f25b52",
      "metadata": {
        "id": "44f25b52"
      },
      "outputs": [],
      "source": [
        "import pandas as pd\n",
        "import matplotlib.pyplot as plt"
      ]
    },
    {
      "cell_type": "code",
      "execution_count": null,
      "id": "75ca6059",
      "metadata": {
        "id": "75ca6059"
      },
      "outputs": [],
      "source": [
        "data = pd.read_csv(\"Dataset.csv\")"
      ]
    },
    {
      "cell_type": "code",
      "execution_count": null,
      "id": "3d7524ed",
      "metadata": {
        "id": "3d7524ed"
      },
      "outputs": [],
      "source": [
        "price_ranges = data[\"Price range\"].unique()\n",
        "online_delivery_percentages = []"
      ]
    },
    {
      "cell_type": "code",
      "execution_count": null,
      "id": "d103d77d",
      "metadata": {
        "id": "d103d77d"
      },
      "outputs": [],
      "source": [
        "for price_range in price_ranges:\n",
        "    restaurants_with_delivery = data[(data[\"Price range\"] == price_range) & (data[\"Has Online delivery\"] == True)]\n",
        "    total_restaurants = len(data[data[\"Price range\"] == price_range])\n",
        "    percentage_with_delivery = (len(restaurants_with_delivery) / total_restaurants) * 100\n",
        "    online_delivery_percentages.append(percentage_with_delivery)"
      ]
    },
    {
      "cell_type": "code",
      "execution_count": null,
      "id": "3890f5d1",
      "metadata": {
        "id": "3890f5d1"
      },
      "outputs": [],
      "source": [
        "table_booking_percentages = []"
      ]
    },
    {
      "cell_type": "code",
      "execution_count": null,
      "id": "bf38c107",
      "metadata": {
        "id": "bf38c107"
      },
      "outputs": [],
      "source": [
        "for price_range in price_ranges:\n",
        "    restaurants_with_table_booking = data[(data[\"Price range\"] == price_range) & (data[\"Has Table booking\"] == True)]\n",
        "    total_restaurants = len(data[data[\"Price range\"] == price_range])\n",
        "    percentage_with_table_booking = (len(restaurants_with_table_booking) / total_restaurants) * 100\n",
        "    table_booking_percentages.append(percentage_with_table_booking)"
      ]
    },
    {
      "cell_type": "code",
      "execution_count": null,
      "id": "c5fa7184",
      "metadata": {
        "id": "c5fa7184"
      },
      "outputs": [],
      "source": [
        "plt.figure(figsize=(10, 5))"
      ]
    },
    {
      "cell_type": "code",
      "execution_count": null,
      "id": "2ba06a5f",
      "metadata": {
        "id": "2ba06a5f"
      },
      "outputs": [],
      "source": [
        "plt.subplot(1, 2, 1)\n",
        "plt.bar(price_ranges, online_delivery_percentages)\n",
        "plt.xlabel(\"Price range\")\n",
        "plt.ylabel(\"Has Online delivery\")\n",
        "plt.title(\"Percentage of Restaurants with Online delivery by Price Range\")"
      ]
    },
    {
      "cell_type": "code",
      "execution_count": null,
      "id": "c7b88abd",
      "metadata": {
        "id": "c7b88abd"
      },
      "outputs": [],
      "source": [
        "plt.subplot(1, 2, 2)\n",
        "plt.bar(price_ranges, table_booking_percentages)\n",
        "plt.xlabel(\"Price range\")\n",
        "plt.ylabel(\"Percentage with Has Table booking\")\n",
        "plt.title(\"Percentage of Restaurants with Table Booking by Price Range\")"
      ]
    }
  ],
  "metadata": {
    "colab": {
      "provenance": []
    },
    "kernelspec": {
      "display_name": "Python 3 (ipykernel)",
      "language": "python",
      "name": "python3"
    },
    "language_info": {
      "codemirror_mode": {
        "name": "ipython",
        "version": 3
      },
      "file_extension": ".py",
      "mimetype": "text/x-python",
      "name": "python",
      "nbconvert_exporter": "python",
      "pygments_lexer": "ipython3",
      "version": "3.9.13"
    }
  },
  "nbformat": 4,
  "nbformat_minor": 5
}
